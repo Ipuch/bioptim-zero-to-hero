{
 "cells": [
  {
   "cell_type": "markdown",
   "id": "1769ff6e-f498-4fa8-b728-d16e31942f2c",
   "metadata": {
    "tags": []
   },
   "source": [
    "# TUTO Rototrans"
   ]
  },
  {
   "cell_type": "markdown",
   "id": "a0593ef8-9489-453a-947e-2a6811444e2f",
   "metadata": {
    "tags": []
   },
   "source": [
    "We want to display the rototrans (aka homogeneous transform) of any segment from local coordinates to global coordinates such that any point P_in_local_segment can be transform in world's frame."
   ]
  },
  {
   "cell_type": "markdown",
   "id": "67de6e34-bf0d-4f3d-85ff-78c5c345d8ed",
   "metadata": {},
   "source": [
    "In our example, we will use the wu model.\n",
    "When you load it, the model is in anatomical posture, in this example we will try to find the Rotranslation matrix between ulna and humerus when the elbow is bend."
   ]
  },
  {
   "cell_type": "markdown",
   "id": "2713b340-c9af-48f8-b832-48d3ec4d5372",
   "metadata": {
    "tags": []
   },
   "source": [
    "---\n",
    "### Formula\n",
    "\n",
    "Let $ T_{world/segment} $ the homogeneous transform matrix between segment and world.\n",
    "\n",
    "We have :\n",
    "\n",
    "$ P_{world}= T_{world/segment} . P_{segment} $\n",
    "\n",
    "If we want the rototrans matrix between two segment i and j, we need to pass by the world :\n",
    "\n",
    "$ T_{i/j} = T_{i/ world} . T_{world/j} $\n",
    "\n",
    "In order to get $ T_{i/ world}$, we inverse the matrix $ T_{world/i}$\n",
    "\n",
    "Finally  :  $ P_{i}= T_{i/j} . P_{j} $\n",
    "\n",
    "The position in i in relation to j is given by the rototranslation matrix between i and j, multiplied by the position in j.\n",
    "\n",
    "___"
   ]
  },
  {
   "cell_type": "code",
   "execution_count": 27,
   "id": "5654b1d7-879a-49c7-b5f2-1cad34a5c993",
   "metadata": {},
   "outputs": [],
   "source": [
    "import bioviz\n",
    "import numpy as np\n",
    "import biorbd"
   ]
  },
  {
   "cell_type": "code",
   "execution_count": 28,
   "id": "3c77289d-ee97-4578-ade1-9766ab6a0b24",
   "metadata": {},
   "outputs": [],
   "source": [
    "# Load the model\n",
    "model_name = \"models/wu_converted_definitif.bioMod\"\n",
    "\n",
    "biorbd_model = biorbd.Model(model_name)\n",
    "np.set_printoptions(precision=10)\n",
    "\n",
    "# Now the model is loaded as a biorbd object"
   ]
  },
  {
   "cell_type": "markdown",
   "id": "da41a3d4-1fc1-4692-9e1b-6b88041aa9f4",
   "metadata": {},
   "source": [
    "Q is the vector that we get after manually placed the ulna into the animation and click on \"copy to clipboard\". It correspond to the values of our degrees of liberty."
   ]
  },
  {
   "cell_type": "code",
   "execution_count": 44,
   "id": "8918f7ec-d82b-409e-b005-82ef3f7e4017",
   "metadata": {},
   "outputs": [],
   "source": [
    "# Q is supposed to be same dimension as biorbd_model.nbQ()\n",
    "\n",
    "Q = np.array(\n",
    "    [ \n",
    "        0.0,\n",
    "        0.0,\n",
    "        0.0,\n",
    "        0.0,\n",
    "        0.0,\n",
    "        0.0,\n",
    "        0.0,\n",
    "        0.0,\n",
    "        0.0,\n",
    "        0.0,\n",
    "        0.0,\n",
    "        0.0,\n",
    "        0.0,\n",
    "        0.0,\n",
    "        0.0,\n",
    "        1.1806,\n",
    "        0.0\n",
    "    ]\n",
    ") \n",
    "# here is the Q when the elbow is bend (rotation of ulna by almost pi/2)"
   ]
  },
  {
   "cell_type": "markdown",
   "id": "f81b4b1e-14eb-4ee1-a110-738cf5036313",
   "metadata": {},
   "source": [
    "Now we have to find the numbers of our segment, ulna and humerus. Ulna is segment 30 ans Humerus is segment 23."
   ]
  },
  {
   "cell_type": "code",
   "execution_count": 31,
   "id": "f8dbed8a-36d2-4a52-b457-e8c82003332d",
   "metadata": {},
   "outputs": [
    {
     "data": {
      "text/plain": [
       "23"
      ]
     },
     "execution_count": 31,
     "metadata": {},
     "output_type": "execute_result"
    }
   ],
   "source": [
    "biorbd_model.GetBodyBiorbdId(\"humerus\") # this function can be use to find a segment name"
   ]
  },
  {
   "cell_type": "code",
   "execution_count": 32,
   "id": "66f17924-b82a-43ed-a90b-bc1e387a291e",
   "metadata": {},
   "outputs": [
    {
     "data": {
      "text/plain": [
       "30"
      ]
     },
     "execution_count": 32,
     "metadata": {},
     "output_type": "execute_result"
    }
   ],
   "source": [
    "biorbd_model.GetBodyBiorbdId(\"ulna\")"
   ]
  },
  {
   "cell_type": "code",
   "execution_count": 42,
   "id": "562fcf6a-a0a7-48bd-b75c-afeee8b8313e",
   "metadata": {
    "tags": []
   },
   "outputs": [],
   "source": [
    "# So, we want to find the rototrans (aka homogeneous transform) of ulna and the humerus from local to global coordinates.\n",
    "\n",
    "Rototrans_matrix_world_humerus = biorbd_model.globalJCS(Q, 23).to_array() # We converted the matrix into array in order to do matrice's operation thanks to numpy\n",
    "Rototrans_matrix_world_ulna = biorbd_model.globalJCS(Q, 30).to_array() # globaJCS() return the joint coordinate system (JCS) for the segment in global reference frame at a given Q.\n",
    " "
   ]
  },
  {
   "cell_type": "markdown",
   "id": "3490d30d-bbd4-4d97-9a1a-2bcfb766e38d",
   "metadata": {
    "tags": []
   },
   "source": [
    "In order to get the rototrans matrix between world and segment, we use the fonction : globalJCS()"
   ]
  },
  {
   "cell_type": "code",
   "execution_count": 43,
   "id": "8eedf4e6-133f-4a47-b7de-515ab728899c",
   "metadata": {},
   "outputs": [
    {
     "name": "stdout",
     "output_type": "stream",
     "text": [
      "[[ 1.0000000000e+00  7.4499796266e-10 -1.8067501998e-09  6.5190604461e-03]\n",
      " [ 1.1288110620e-10  1.0000000037e+00  1.4822152464e-09 -3.1035003119e-01]\n",
      " [-1.7932619915e-09  7.1796937146e-10  9.9999999721e-01 -1.0605052325e-02]\n",
      " [ 0.0000000000e+00  0.0000000000e+00  0.0000000000e+00  1.0000000000e+00]]\n"
     ]
    }
   ],
   "source": [
    "# We want to find the transformation matrix btw support and ulna\n",
    "# Rototrans_matrix_ulna_support = Rototrans_matrix_ulna_world * Rototrans_matrix_world_support\n",
    "\n",
    "# Rototrans_matrix_humerus_world is the inverse matrix of Rototrans_matrix_world_humerus, we use .transpose()\n",
    "# .transpose() on the Rototrans object which actually inverses the rototranslation matrix.\n",
    "\n",
    "Rototrans_matrix_humerus_world = biorbd_model.globalJCS(Q, 23).transpose().to_array()\n",
    "\n",
    "# Be aware that Rototrans_matrix_world_ulna.transpose() would give the wrong matrix\n",
    "\n",
    "# Finally\n",
    "Rototrans_matrix_humerus_ulna = np.matmul(Rototrans_matrix_humerus_world, Rototrans_matrix_world_ulna)\n",
    "\n",
    "print(Rototrans_matrix_humerus_ulna)\n",
    "\n",
    "# We have Rototrans_matrix_humerus_ulna, so, we are now able to transform the coordinates of any point in the ulna\n",
    "# frame to the humerus frame with the following formula:\n",
    "# Position_in_humerus = Rototrans_matrix_humerus_ulna * Position_in_ulna\n"
   ]
  },
  {
   "cell_type": "markdown",
   "id": "528829f8-f96b-4312-8d7f-5f2635f415bb",
   "metadata": {},
   "source": [
    "## Do It Yourself \n",
    "\n",
    "Now that you saw an example, let's apply what you learn on an other example.\n",
    "\n",
    "You must find the rototrans matrix between humerus and scapula in order to make an abduction of the arm to be parallel to transversal plan.  "
   ]
  },
  {
   "cell_type": "code",
   "execution_count": 37,
   "id": "0e3efcb8-eee5-4e39-9fd7-41625d903d16",
   "metadata": {},
   "outputs": [],
   "source": [
    "import bioviz\n",
    "import numpy as np\n",
    "import biorbd\n",
    "\n",
    "# Load the model\n",
    "model_name = \"models/wu_converted_definitif.bioMod\"\n",
    "\n",
    "biorbd_model = biorbd.Model(model_name)\n",
    "\n",
    "\n",
    "# Now the model is loaded as a biorbd object\n",
    "\n",
    "# Q is supposed to be same dimension as biorbd_model.nbQ()\n",
    "# We give the Q\n",
    "\n",
    "Q = np.array(\n",
    "    [ \n",
    "        0.0,\n",
    "        0.0,\n",
    "        0.0,\n",
    "        0.0,\n",
    "        0.0,\n",
    "        0.0,\n",
    "        0.0,\n",
    "        0.0,\n",
    "        0.0,\n",
    "        0.0,\n",
    "        0.0,\n",
    "        0.0,\n",
    "        0.0,\n",
    "        1.6282,\n",
    "        0.0,\n",
    "        0.0,\n",
    "        0.0\n",
    "\n",
    "    ]\n",
    ") \n",
    "\n",
    "# So, we want to find the rototrans (aka homogeneous transform) of humerus and the scapula from local to global coordinates."
   ]
  },
  {
   "cell_type": "code",
   "execution_count": 39,
   "id": "3864ed7b-3b01-4ef8-b838-4c091215bacf",
   "metadata": {},
   "outputs": [
    {
     "data": {
      "text/plain": [
       "-1"
      ]
     },
     "execution_count": 39,
     "metadata": {},
     "output_type": "execute_result"
    }
   ],
   "source": [
    "biorbd_model.GetBodyBiorbdId(\"segment_name\") # this function can be use to find a segment name"
   ]
  },
  {
   "cell_type": "code",
   "execution_count": 41,
   "id": "2988de44-fe8a-47d2-8547-78aeb9e5d466",
   "metadata": {},
   "outputs": [],
   "source": [
    "# Uncomment and complete the following line \n",
    "\n",
    "# Rototrans_matrix_world_scapula = biorbd_model.globalJCS(Q, ...).to_array() # to complete, find the number which correspond to the scapula\n",
    "# Rototrans_matrix_world_humerus = biorbd_model.globalJCS(Q, ...).to_array() # to complete, find the number which correspond to the humerus\n",
    "\n",
    "# Rototrans_matrix_scapula_world = biorbd_model.globalJCS(Q, ...). ...().to_array() # to complete, find the right function to inverse matrix\n",
    "\n",
    "# # Finally\n",
    "# Rototrans_matrix_scapula_humerus = np.matmul(... , ... ) #put the right matrix in the matrix multiplication function\n",
    "\n",
    "# print(Rototrans_matrix_scapula_humerus)\n"
   ]
  }
 ],
 "metadata": {
  "kernelspec": {
   "display_name": "Python 3 (ipykernel)",
   "language": "python",
   "name": "python3"
  },
  "language_info": {
   "codemirror_mode": {
    "name": "ipython",
    "version": 3
   },
   "file_extension": ".py",
   "mimetype": "text/x-python",
   "name": "python",
   "nbconvert_exporter": "python",
   "pygments_lexer": "ipython3",
   "version": "3.10.2"
  }
 },
 "nbformat": 4,
 "nbformat_minor": 5
}
