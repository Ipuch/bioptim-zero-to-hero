{
 "cells": [
  {
   "cell_type": "markdown",
   "id": "1769ff6e-f498-4fa8-b728-d16e31942f2c",
   "metadata": {
    "tags": []
   },
   "source": [
    "# TUTO Rototrans"
   ]
  },
  {
   "cell_type": "markdown",
   "id": "a0593ef8-9489-453a-947e-2a6811444e2f",
   "metadata": {
    "tags": []
   },
   "source": [
    "We want to display the rototrans (aka homogeneous transform) of any segment from local coordinates to global coordinates such that any point P_in_local_segment can be transform in world's frame."
   ]
  },
  {
   "cell_type": "markdown",
   "id": "2bd053b6-1dad-4880-bda6-8eb65bba2482",
   "metadata": {},
   "source": [
    "At first, we need to define a model :"
   ]
  },
  {
   "cell_type": "raw",
   "id": "e7166ffd-a0e2-4142-8df4-7073753e8ac3",
   "metadata": {},
   "source": [
    "model_name = \"C:\\...\\example_of_model.bioMod\"\n",
    "\n",
    "biorbd_model = biorbd.Model(model_name)"
   ]
  },
  {
   "cell_type": "markdown",
   "id": "2713b340-c9af-48f8-b832-48d3ec4d5372",
   "metadata": {},
   "source": [
    "The origin of this model match with the origin of the world in our context."
   ]
  },
  {
   "cell_type": "markdown",
   "id": "c75eea0f-79e2-4162-bc79-72fec0efceeb",
   "metadata": {},
   "source": [
    "Let $ T_{world/segment} $ the homogeneous transform matrix between segment and world."
   ]
  },
  {
   "cell_type": "markdown",
   "id": "3c2788d5-a44f-44c1-a5a4-8579cada7285",
   "metadata": {},
   "source": [
    "We have :"
   ]
  },
  {
   "cell_type": "markdown",
   "id": "2415b7be-de41-4226-a995-d410c941bda1",
   "metadata": {},
   "source": [
    "$ P_{world}= T_{world/segment} . P_{segment} $"
   ]
  },
  {
   "cell_type": "markdown",
   "id": "65028239-6032-4f35-849a-f5ff9fbf42bb",
   "metadata": {},
   "source": [
    "If we want the rototrans matrix between two segment i and j, we need to pass by the world :"
   ]
  },
  {
   "cell_type": "markdown",
   "id": "c2a4cbcc-4be5-4556-bf86-454455e79bd6",
   "metadata": {},
   "source": [
    "$ T_{i/j} = T_{i/ world} . T_{world/j} $"
   ]
  },
  {
   "cell_type": "markdown",
   "id": "3490d30d-bbd4-4d97-9a1a-2bcfb766e38d",
   "metadata": {},
   "source": [
    "In order to get the rototrans matrix between world and segment, we use the fonction : globalJCS()"
   ]
  },
  {
   "cell_type": "markdown",
   "id": "730f86af-aed2-43c3-b4e0-95c78fcb4428",
   "metadata": {
    "tags": []
   },
   "source": [
    "-------------------------------------------------------------------------------------------------\n",
    "### globalJCS ()\n",
    "Return the joint coordinate system (JCS) for the segment in global reference frame at a given Q.\n",
    "\n",
    "#### Parameters\n",
    "Q : The generalized coordinates\n",
    "\n",
    "name : The name of the segment\n",
    "\n",
    "#### Returns\n",
    "The JCS of the segment in global reference frame at a given Q\n",
    "\n",
    "---------------------------------------------------------------------------------------------------------------"
   ]
  },
  {
   "cell_type": "markdown",
   "id": "b7a072c3-2517-40e9-b327-27b6f74e0cbc",
   "metadata": {},
   "source": [
    "Q is a vector that contain all the values of degrees of liberty in our model"
   ]
  },
  {
   "cell_type": "markdown",
   "id": "113a795c-964b-4ffb-8a98-8b51d5b2aaca",
   "metadata": {},
   "source": [
    "We converted the matrix into array in order to do matrice's operation thanks to numpy"
   ]
  },
  {
   "cell_type": "raw",
   "id": "154f1670-2cbd-4f50-be1f-88d600aa30a8",
   "metadata": {},
   "source": [
    "T_World_i = biorbd_model.globalJCS(Q, i).to_array() \n",
    "T_World_j = biorbd_model.globalJCS(Q, j).to_array() "
   ]
  },
  {
   "cell_type": "markdown",
   "id": "37eabf8d-d638-4ad5-a35f-2e176268508c",
   "metadata": {},
   "source": [
    "We have $ T_{world/i} $ but we need the inverse, $ T_{i/world} $"
   ]
  },
  {
   "cell_type": "markdown",
   "id": "3ac00b05-4e32-4e85-bea1-fdc5b160b258",
   "metadata": {},
   "source": [
    "We use the function transpose() that return the inverse of rototrans matrix ."
   ]
  },
  {
   "cell_type": "raw",
   "id": "c482dbcd-fdfe-4bb0-afe5-af4a153af3a4",
   "metadata": {},
   "source": [
    "T_i_world = biorbd_model.globalJCS(Q, i).transpose().to_array() "
   ]
  },
  {
   "cell_type": "markdown",
   "id": "2c9bc5b0-5d5a-40d0-95bb-3e4aedddd1cb",
   "metadata": {},
   "source": [
    "So, Rototrans matrix between i and j is given by :"
   ]
  },
  {
   "cell_type": "raw",
   "id": "3d7cdc3e-f2a1-4cb4-825f-64baeb348043",
   "metadata": {},
   "source": [
    "T_i_j = np.matmul(T_i_world, T_world_j)"
   ]
  },
  {
   "cell_type": "markdown",
   "id": "1665bc32-5c8f-4d68-b662-e0ca5782e9ae",
   "metadata": {},
   "source": [
    "Finally  :  $ P_{i}= T_{i/j} . P_{j} $\n"
   ]
  }
 ],
 "metadata": {
  "kernelspec": {
   "display_name": "Python 3 (ipykernel)",
   "language": "python",
   "name": "python3"
  },
  "language_info": {
   "codemirror_mode": {
    "name": "ipython",
    "version": 3
   },
   "file_extension": ".py",
   "mimetype": "text/x-python",
   "name": "python",
   "nbconvert_exporter": "python",
   "pygments_lexer": "ipython3",
   "version": "3.10.2"
  }
 },
 "nbformat": 4,
 "nbformat_minor": 5
}
