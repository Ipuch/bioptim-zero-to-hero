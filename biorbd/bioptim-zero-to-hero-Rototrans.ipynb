{
 "cells": [
  {
   "cell_type": "markdown",
   "id": "1769ff6e-f498-4fa8-b728-d16e31942f2c",
   "metadata": {
    "tags": []
   },
   "source": [
    "# biorbd #1 - Rototrans"
   ]
  },
  {
   "cell_type": "markdown",
   "id": "a0593ef8-9489-453a-947e-2a6811444e2f",
   "metadata": {
    "tags": []
   },
   "source": [
    "This tutorial is a trivial example on how to manage Rototranslation object with biorbd. It is designed to show how one can find the rototranslation matrix between any segment.\n",
    "The rototranslation $^{j}T_i$ (aka homogeneous transform) allows to transform any point $^{i}\\boldsymbol{p}$ in frame $i$ to another frame $j$. It is defined as follow:\n",
    "\\begin{equation}\n",
    "^{j}T_i = \\begin{pmatrix}R_{11}&R_{12}&R_{13}&t_{x}\\\\ \n",
    "R_{21}&R_{22}&R_{23}&t_{y}\\\\ \n",
    "R_{31}&R_{32}&R_{33}&t_{z}\\\\ \n",
    "0&0&0&1\\\\\n",
    "\\end{pmatrix}\n",
    "\\end{equation}\n",
    "Terms $R_{ij}$ come from the rotational part of homogenous transform, also known as Rotation matrix which would be in this case: $^{j}R_i$. And $t$ terms come from the translation part of homogenous transform which would be in this case: $^{i}\\boldsymbol{t}$ the translation in frame $i$. \n",
    "\n",
    "In our example, we will use the musculoskeletal model illustrated just below."
   ]
  },
  {
   "cell_type": "markdown",
   "id": "611745c1-61ac-41ba-92fc-a48b1bdd9526",
   "metadata": {},
   "source": [
    "<p style=\"text-align: center;\">\n",
    "<img src=\"../doc/wu_model_pic.png\" width=\"400\" height=\"400\" /></p>"
   ]
  },
  {
   "cell_type": "markdown",
   "id": "2713b340-c9af-48f8-b832-48d3ec4d5372",
   "metadata": {
    "tags": []
   },
   "source": [
    "### Mathematical refreshers\n",
    "\n",
    "Let $ ^{w}T_{s} $ the homogeneous transform matrix between a frame of any segment $s$ and world's frame $w$. We have :\n",
    "\n",
    "$^{w}\\boldsymbol{p}$=$^{w}T_{s} \\; ^{s}\\boldsymbol{p} $\n",
    "\n",
    "If we want the rototrans matrix between two segment $i$ and $j$, we need to pass trough the world's frame $w$ :\n",
    "\n",
    "$ ^{i}T_{j}$ =$ ^{i}T_{w} \\;  ^{w}T_{j} $\n",
    "\n",
    "with $ ^{i}T_{w}$ = $ ^{w}T_{i}^{-1}$\n",
    "\n",
    "To sum up, the position $\\boldsymbol{p}$ in frame $i$ in relation to $j$ is given by the rototranslation matrix $^{i}T_{j}$, multiplied by the position $\\boldsymbol{p}$ in $j$ such as: $ ^{i}\\boldsymbol{p}$ =$  ^{i}T_{j} \\; ^{j}\\boldsymbol{p}$ \n",
    "___"
   ]
  },
  {
   "cell_type": "code",
   "execution_count": 8,
   "id": "5654b1d7-879a-49c7-b5f2-1cad34a5c993",
   "metadata": {},
   "outputs": [],
   "source": [
    "import bioviz\n",
    "import numpy as np\n",
    "import biorbd"
   ]
  },
  {
   "cell_type": "code",
   "execution_count": 22,
   "id": "3c77289d-ee97-4578-ade1-9766ab6a0b24",
   "metadata": {},
   "outputs": [
    {
     "name": "stdout",
     "output_type": "stream",
     "text": [
      "17\n",
      "thorax_parent_offset\n",
      "thorax_translation\n",
      "thorax_rotation_transform\n",
      "thorax_reset_axis\n",
      "thorax\n",
      "clavicle_parent_offset\n",
      "clavicle_translation\n",
      "clavicle_sternoclavicular_r1\n",
      "clavicle_sternoclavicular_r2\n",
      "clavicle_sternoclavicular_r3\n",
      "clavicle_reset_axis\n",
      "clavicle\n",
      "scapula_parent_offset\n",
      "scapula_translation\n",
      "scapula_rotation_transform\n",
      "scapula_reset_axis\n",
      "scapula\n",
      "humerus_parent_offset\n",
      "humerus_translation\n",
      "humerus_shoulder_plane\n",
      "humerus_shoulder_ele\n",
      "humerus_shoulder_rotation\n",
      "humerus_reset_axis\n",
      "humerus\n",
      "ulna_parent_offset\n",
      "ulna_translation\n",
      "ulna_rotation1\n",
      "ulna_rotation2\n",
      "ulna_elbow_flexion\n",
      "ulna_reset_axis\n",
      "ulna\n",
      "radius_parent_offset\n",
      "radius_translation\n",
      "radius_rotation1\n",
      "radius_pro_sup\n",
      "radius_rotation3\n",
      "radius_reset_axis\n",
      "radius\n",
      "hand_r_parent_offset\n",
      "hand_r\n"
     ]
    }
   ],
   "source": [
    "# We load the model\n",
    "model_name = \"../models/wu_converted_definitif.bioMod\"\n",
    "# giving the path\n",
    "biorbd_model = biorbd.Model(model_name)\n",
    "# Now the model is loaded as a biorbd object\n",
    "print(biorbd_model.nbQ())"
   ]
  },
  {
   "cell_type": "markdown",
   "id": "da41a3d4-1fc1-4692-9e1b-6b88041aa9f4",
   "metadata": {},
   "source": [
    "In this example we will try to find the Rotranslation matrix between ulna, denoted $u$ and humerus, denoted $h$ when the elbow is bent. We set the degrees of freedom of the model in a chosen pose for the sake of the tutorial."
   ]
  },
  {
   "cell_type": "code",
   "execution_count": 26,
   "id": "8918f7ec-d82b-409e-b005-82ef3f7e4017",
   "metadata": {},
   "outputs": [
    {
     "name": "stdout",
     "output_type": "stream",
     "text": [
      "Here is the list of segment in the model\n",
      "thorax_parent_offset\n",
      "thorax_translation\n",
      "thorax_rotation_transform\n",
      "thorax_reset_axis\n",
      "thorax\n",
      "clavicle_parent_offset\n",
      "clavicle_translation\n",
      "clavicle_sternoclavicular_r1\n",
      "clavicle_sternoclavicular_r2\n",
      "clavicle_sternoclavicular_r3\n",
      "clavicle_reset_axis\n",
      "clavicle\n",
      "scapula_parent_offset\n",
      "scapula_translation\n",
      "scapula_rotation_transform\n",
      "scapula_reset_axis\n",
      "scapula\n",
      "humerus_parent_offset\n",
      "humerus_translation\n",
      "humerus_shoulder_plane\n",
      "humerus_shoulder_ele\n",
      "humerus_shoulder_rotation\n",
      "humerus_reset_axis\n",
      "humerus\n",
      "ulna_parent_offset\n",
      "ulna_translation\n",
      "ulna_rotation1\n",
      "ulna_rotation2\n",
      "ulna_elbow_flexion\n",
      "ulna_reset_axis\n",
      "ulna\n",
      "radius_parent_offset\n",
      "radius_translation\n",
      "radius_rotation1\n",
      "radius_pro_sup\n",
      "radius_rotation3\n",
      "radius_reset_axis\n",
      "radius\n",
      "hand_r_parent_offset\n",
      "hand_r\n"
     ]
    }
   ],
   "source": [
    "# Q is supposed to be same dimension as biorbd_model.nbQ(). here is the Q when the elbow is bend (rotation of ulna by pi/2)\n",
    "Q = np.array(\n",
    "    [ \n",
    "        0.0,\n",
    "        0.0,\n",
    "        0.0,\n",
    "        0.0,\n",
    "        0.0,\n",
    "        0.0,\n",
    "        0.0,\n",
    "        0.0,\n",
    "        0.0,\n",
    "        0.0,\n",
    "        0.0,\n",
    "        0.0,\n",
    "        0.0,\n",
    "        1.6282,\n",
    "        0.0,\n",
    "        1.1806,\n",
    "        0.0\n",
    "    ]\n",
    ") \n",
    "# display the list of segment in the model\n",
    "print(\"Here is the list of segment in the model: \")\n",
    "for ii in range(biorbd_model.nbSegment()):\n",
    "    print(biorbd_model.segment(ii).name().to_string())"
   ]
  },
  {
   "cell_type": "markdown",
   "id": "f81b4b1e-14eb-4ee1-a110-738cf5036313",
   "metadata": {},
   "source": [
    "We will consider the two segments ulna $u$ and humerus $h$, in order to build the rototranslation matrices between them. Let's find their index."
   ]
  },
  {
   "cell_type": "code",
   "execution_count": 28,
   "id": "f8dbed8a-36d2-4a52-b457-e8c82003332d",
   "metadata": {},
   "outputs": [
    {
     "name": "stdout",
     "output_type": "stream",
     "text": [
      "Humerus id:  23\n",
      "Ulna id:  30\n"
     ]
    }
   ],
   "source": [
    "id_humerus = biorbd_model.getBodyBiorbdId(\"humerus\") # this function can be use to find a segment name\n",
    "id_ulna = biorbd_model.getBodyBiorbdId(\"ulna\")\n",
    "print(\"Humerus id: \", id_humerus)\n",
    "print(\"Ulna id: \", id_ulna)"
   ]
  },
  {
   "cell_type": "markdown",
   "id": "b690245f-a958-495c-8e26-96e929e2dee9",
   "metadata": {},
   "source": [
    "Now let's build the rototrans (aka homogeneous transform) of ulna and the humerus from local frame to world's frame.\n"
   ]
  },
  {
   "cell_type": "code",
   "execution_count": 29,
   "id": "562fcf6a-a0a7-48bd-b75c-afeee8b8313e",
   "metadata": {
    "tags": []
   },
   "outputs": [
    {
     "name": "stdout",
     "output_type": "stream",
     "text": [
      "T_world_humerus\n",
      "[[ 9.99999957e-01 -2.07816773e-04  2.03543983e-04 -2.17852518e-02]\n",
      " [-2.15133279e-04 -5.73721101e-02  9.98352839e-01 -2.72586523e-03]\n",
      " [-1.95797038e-04 -9.98352843e-01 -5.73721534e-02  2.16064773e-01]\n",
      " [ 0.00000000e+00  0.00000000e+00  0.00000000e+00  1.00000000e+00]]\n",
      "\n",
      "T_world_ulna\n",
      "[[ 0.38168936 -0.9220298   0.06460863 -0.01520385]\n",
      " [-0.05639745  0.04653795  0.99732319  0.00449058]\n",
      " [-0.92256846 -0.38431141 -0.03423709  0.52651077]\n",
      " [ 0.          0.          0.          1.        ]]\n"
     ]
    }
   ],
   "source": [
    "Rototrans_matrix_world_humerus = biorbd_model.globalJCS(Q, id_humerus).to_array() # We converted the matrix into array in order to do matrice's operation thanks to numpy\n",
    "Rototrans_matrix_world_ulna = biorbd_model.globalJCS(Q, id_ulna).to_array() # globaJCS() return the joint coordinate system (JCS) for the segment in global reference frame at a given Q.\n",
    "print(\"T_world_humerus\")\n",
    "print(Rototrans_matrix_world_humerus)\n",
    "print(\"\")\n",
    "print(\"T_world_ulna\")\n",
    "print(Rototrans_matrix_world_ulna)"
   ]
  },
  {
   "cell_type": "markdown",
   "id": "61afeb53-e03a-4e23-b3f6-bf2b2d0c3329",
   "metadata": {},
   "source": [
    "We want to find the transformation matrix between humerus $h$ and ulna $u$\n",
    "$^{h}T_{u}$=$^{h}T_{w}. $$^{w}T_{u}$\n",
    "\n",
    "$^{h}T_{w}$ is the inverse matrix of ${^{w}T_{h}}^{-1}$. It is obtained using .transpose() method on the Rototrans object which actually inverses the rototranslation matrix."
   ]
  },
  {
   "cell_type": "code",
   "execution_count": 30,
   "id": "8eedf4e6-133f-4a47-b7de-515ab728899c",
   "metadata": {},
   "outputs": [
    {
     "ename": "NameError",
     "evalue": "name 'nb_humerus' is not defined",
     "output_type": "error",
     "traceback": [
      "\u001b[0;31m---------------------------------------------------------------------------\u001b[0m",
      "\u001b[0;31mNameError\u001b[0m                                 Traceback (most recent call last)",
      "Input \u001b[0;32mIn [30]\u001b[0m, in \u001b[0;36m<cell line: 1>\u001b[0;34m()\u001b[0m\n\u001b[0;32m----> 1\u001b[0m Rototrans_matrix_humerus_world \u001b[38;5;241m=\u001b[39m biorbd_model\u001b[38;5;241m.\u001b[39mglobalJCS(Q, \u001b[43mnb_humerus\u001b[49m)\u001b[38;5;241m.\u001b[39mtranspose()\u001b[38;5;241m.\u001b[39mto_array()\n\u001b[1;32m      2\u001b[0m \u001b[38;5;66;03m# Be aware that Rototrans_matrix_world_humerus.transpose() would give the wrong matrix\u001b[39;00m\n\u001b[1;32m      4\u001b[0m Rototrans_matrix_humerus_ulna \u001b[38;5;241m=\u001b[39m np\u001b[38;5;241m.\u001b[39mmatmul(Rototrans_matrix_humerus_world, Rototrans_matrix_world_ulna)\n",
      "\u001b[0;31mNameError\u001b[0m: name 'nb_humerus' is not defined"
     ]
    }
   ],
   "source": [
    "Rototrans_matrix_humerus_world = biorbd_model.globalJCS(Q, id_humerus).transpose().to_array()\n",
    "# Be aware that Rototrans_matrix_world_humerus.transpose() would give the wrong matrix\n",
    "\n",
    "Rototrans_matrix_humerus_ulna = np.matmul(Rototrans_matrix_humerus_world, Rototrans_matrix_world_ulna)\n",
    "\n",
    "print(\"T_humerus_ulna\")\n",
    "print(Rototrans_matrix_humerus_ulna)"
   ]
  },
  {
   "cell_type": "markdown",
   "id": "3dcac893-5ef0-4148-b811-2d3ba6ba06f1",
   "metadata": {},
   "source": [
    "We now have $^{h}T_{u}$.\n",
    "\n",
    "So, we are now able to transform any point in ulna's frame to humerus' frame with the following formula:\n",
    "\n",
    "$ ^{h}\\boldsymbol{p} =  ^{h}T_{u} \\; ^{u}\\boldsymbol{p}$ "
   ]
  },
  {
   "cell_type": "markdown",
   "id": "528829f8-f96b-4312-8d7f-5f2635f415bb",
   "metadata": {},
   "source": [
    "## Do It Yourself \n",
    "\n",
    "Now that you saw an example, let's apply what you learn on an other example. You have to find the rototrans matrix between humerus and scapula."
   ]
  },
  {
   "cell_type": "code",
   "execution_count": null,
   "id": "3864ed7b-3b01-4ef8-b838-4c091215bacf",
   "metadata": {},
   "outputs": [],
   "source": [
    "idx_scapula = biorbd_model.GetBodyBiorbdId(...) # this function can be use to find a segment index using the segment name"
   ]
  },
  {
   "cell_type": "code",
   "execution_count": null,
   "id": "2988de44-fe8a-47d2-8547-78aeb9e5d466",
   "metadata": {},
   "outputs": [],
   "source": [
    "# Complete the following line \n",
    "\n",
    "Rototrans_matrix_world_scapula = biorbd_model.globalJCS(Q, ...).to_array() # to complete, find the number which correspond to the scapula\n",
    "Rototrans_matrix_world_humerus = biorbd_model.globalJCS(Q, ...).to_array() # to complete, find the number which correspond to the humerus\n",
    "\n",
    "Rototrans_matrix_scapula_world = biorbd_model.globalJCS(Q, ...). ...().to_array() # to complete, find the right function to inverse matrix\n",
    "\n",
    "# Finally\n",
    "Rototrans_matrix_scapula_humerus = np.matmul(... , ... ) #put the right matrix in the matrix multiplication function\n",
    "\n",
    "print(Rototrans_matrix_scapula_humerus)\n"
   ]
  },
  {
   "cell_type": "markdown",
   "id": "beb54143-2bc5-4783-ab84-353dbbdfd00f",
   "metadata": {},
   "source": [
    "# Congratulation! You went from zero to hero in the understanding of rototrans matrices !"
   ]
  }
 ],
 "metadata": {
  "kernelspec": {
   "display_name": "Python 3 (ipykernel)",
   "language": "python",
   "name": "python3"
  },
  "language_info": {
   "codemirror_mode": {
    "name": "ipython",
    "version": 3
   },
   "file_extension": ".py",
   "mimetype": "text/x-python",
   "name": "python",
   "nbconvert_exporter": "python",
   "pygments_lexer": "ipython3",
   "version": "3.10.2"
  }
 },
 "nbformat": 4,
 "nbformat_minor": 5
}
