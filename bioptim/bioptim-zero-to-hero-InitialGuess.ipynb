{
 "cells": [
  {
   "cell_type": "markdown",
   "id": "ff76ba97-a923-487a-b8bb-ab86d848fdda",
   "metadata": {},
   "source": [
    "# bioptim #1 - InitialGuess"
   ]
  },
  {
   "cell_type": "markdown",
   "id": "e3e2b734-cc22-4dc6-ba1f-8bc60985980f",
   "metadata": {},
   "source": [
    "This tutorial is a trivial example on how to manage InitialGuess with bioptim. It is designed to show how one can change the InitialGuess of a problem if it's needed.\n",
    "InitialGuess allow the problem to start the calculation at a certain point, the goal is to make this initialGuess as near as possible to the real point.\n",
    "\n",
    "In our example, we will use the musculoskeletal model illustrated just below."
   ]
  },
  {
   "cell_type": "markdown",
   "id": "b4ead47a-a2a5-4402-bd59-a5cfa84bc5ad",
   "metadata": {},
   "source": [
    "<p style=\"text-align: center;\">\n",
    "<img src=\"../doc/wu_model_pic.png\" width=\"400\" height=\"400\" /></p>"
   ]
  },
  {
   "cell_type": "markdown",
   "id": "44e068c1-78cb-4354-a5af-f470361a2cfe",
   "metadata": {},
   "source": [
    "First, import librairies and the InitialGuess and InitialGuessList Class:"
   ]
  },
  {
   "cell_type": "code",
   "execution_count": null,
   "id": "52b4b1dd-5988-4f2a-8785-3ce17f1e1f2b",
   "metadata": {},
   "outputs": [],
   "source": [
    "import biorbd_casadi as biorbd\n",
    "from bioptim import (InitialGuess, InitialGuessList)"
   ]
  },
  {
   "cell_type": "markdown",
   "id": "1bc4685c-9733-416b-9163-e2cc70076fb0",
   "metadata": {},
   "source": [
    "Then, we load the model :"
   ]
  },
  {
   "cell_type": "code",
   "execution_count": null,
   "id": "e5555093-d41d-4b79-b5ac-dc3543e60294",
   "metadata": {},
   "outputs": [],
   "source": [
    "model_name = \"../models/wu_converted_definitif.bioMod\"\n",
    "\n",
    "# giving the path\n",
    "biorbd_model = biorbd.Model(model_name)"
   ]
  },
  {
   "cell_type": "markdown",
   "id": "1c975d46-53e8-4be7-8105-7ed7c1dfcbfa",
   "metadata": {},
   "source": [
    "The InitialGuess allow us to define the initial values of degrees of freedom of our model. The most simple problem is a torque driven problem which inculdes states and controls. Controls are denoted by $\\boldsymbol{u}$ and contains torques. States are denoted by $\\boldsymbol{x}$ and contains generalized coordinates $\\boldsymbol{q}$ and generalized velocities $\\boldsymbol{\\dot{q}}$ .\n",
    "\n",
    "In this example, all initial guesses are initialized to 0."
   ]
  },
  {
   "cell_type": "code",
   "execution_count": null,
   "id": "9bb4da6c-24b3-4220-a645-6631544de45d",
   "metadata": {},
   "outputs": [],
   "source": [
    "# State Initial Guess\n",
    "n_q = biorbd_model.nbQ()\n",
    "n_qdot = biorbd_model.nbQdot()\n",
    "x_init = InitialGuess([0] * (n_q + n_qdot))\n",
    "\n",
    "# Control Initial guess\n",
    "n_tau = biorbd_model.nbGeneralizedTorque() # We get the number of torque in our model\n",
    "u_init = InitialGuess([0] * n_tau)"
   ]
  },
  {
   "cell_type": "markdown",
   "id": "251d8168-7e8e-453c-b235-eb736339bc90",
   "metadata": {},
   "source": [
    "An InitialGuess object has two attributes, init and type. \n",
    "\n",
    "Here, the type of the InitialGuess is constant and the initial values are set to 0 all over the phase."
   ]
  },
  {
   "cell_type": "markdown",
   "id": "ae984eb2-fb92-4e03-8117-813478ef9fa1",
   "metadata": {
    "tags": []
   },
   "source": [
    "x_init.init correspond to the initial values of generalized coordinates and generalized velocities."
   ]
  },
  {
   "cell_type": "code",
   "execution_count": null,
   "id": "707f224b-51c0-4331-83ce-dd0de3b49b7c",
   "metadata": {},
   "outputs": [],
   "source": [
    "x_init.init "
   ]
  },
  {
   "cell_type": "markdown",
   "id": "f9340dc9-00fc-494b-84e1-612716cd1963",
   "metadata": {},
   "source": [
    "x_init.type describes the InitialGuess that is set over the phase."
   ]
  },
  {
   "cell_type": "code",
   "execution_count": null,
   "id": "bf8cb7c4-624c-4156-a2e5-0e4263effc61",
   "metadata": {},
   "outputs": [],
   "source": [
    "x_init.type"
   ]
  },
  {
   "cell_type": "markdown",
   "id": "11f381ee-9c29-4d72-b727-4291cb8e6965",
   "metadata": {},
   "source": [
    "If you want to give different initial value to specific states and/or controls.\n",
    "\n",
    "This is how we proceed: "
   ]
  },
  {
   "cell_type": "code",
   "execution_count": null,
   "id": "3f81b301-e061-4a3c-865d-ed8598bab8f2",
   "metadata": {},
   "outputs": [],
   "source": [
    "dof0 = 1 \n",
    "dof1 = 0.005\n",
    "dof25 = 2\n",
    "\n",
    "control0 = 100 \n",
    "control1 = 200\n",
    "control12 = -300"
   ]
  },
  {
   "cell_type": "markdown",
   "id": "a40a9f26-2db7-4cf3-b985-276916469f9f",
   "metadata": {},
   "source": [
    "And we add this values to a list."
   ]
  },
  {
   "cell_type": "code",
   "execution_count": null,
   "id": "ffc44036-74b9-41b5-ae63-bda40cd967c8",
   "metadata": {},
   "outputs": [],
   "source": [
    "x_init_list = [0] * (biorbd_model.nbQ() + biorbd_model.nbQdot()) # We created a list of 0 that will become the InitialGuessList\n",
    "x_init_list[0:2] = [dof0, dof1]\n",
    "x_init_list[25] = dof25\n",
    "\n",
    "print(\"x_init\",x_init_list)\n",
    "\n",
    "u_init_list = ([0] * n_tau)\n",
    "u_init_list[0:2] = [control0, control1]\n",
    "u_init_list[12] = control12\n",
    "\n",
    "print(\"u_init\",u_init_list)"
   ]
  },
  {
   "cell_type": "markdown",
   "id": "83ef840f-9181-4dc2-b5db-d2fefb96d473",
   "metadata": {},
   "source": [
    "And finally we put our list in the InitalGuess."
   ]
  },
  {
   "cell_type": "code",
   "execution_count": null,
   "id": "ebb7b097-1830-4df7-90ef-95b7a42ed71f",
   "metadata": {},
   "outputs": [],
   "source": [
    "x_init = InitialGuess(x_init_list) \n",
    "u_init = InitialGuess(u_init_list) "
   ]
  },
  {
   "cell_type": "markdown",
   "id": "3db7b475-d8a0-4315-b985-1d03198d9749",
   "metadata": {},
   "source": [
    "## Do It Yourself \n",
    "\n",
    "Now that you saw an example, let's apply what you learned on an other example. You have to change the following InitialGuess."
   ]
  },
  {
   "cell_type": "code",
   "execution_count": null,
   "id": "c23a50c3-72ab-48ca-b23a-cd6c5483e6a3",
   "metadata": {},
   "outputs": [],
   "source": [
    "# Complete the following line\n",
    "# We want to change states 5, 8 and 9\n",
    "\n",
    "# Initial guess\n",
    "n_q = biorbd_model.nbQ()\n",
    "n_qdot = biorbd_model.nbQdot()\n",
    "\n",
    "x_init = ... () # we created x_init as a list of 0\n",
    "\n",
    "dof5 = 1 \n",
    "dof8 = 0.005\n",
    "dof9 = 2\n",
    "\n",
    "x_init = InitialGuess(...) # Finally we created the list of InitialGuess"
   ]
  },
  {
   "cell_type": "markdown",
   "id": "c2b3ac97-7924-432f-ba69-78296c7ca14a",
   "metadata": {},
   "source": [
    "Let's check what we've done !"
   ]
  },
  {
   "cell_type": "code",
   "execution_count": null,
   "id": "835137a2-9e1b-4807-bd4d-3997d47aa0d7",
   "metadata": {},
   "outputs": [],
   "source": [
    "x_init.init"
   ]
  },
  {
   "cell_type": "markdown",
   "id": "da807fcd-f7db-4bd8-adde-6ce02044808e",
   "metadata": {},
   "source": [
    "# Considering a multiphase ocp \n",
    "\n",
    "Some ocp are made of several phases.\n",
    "\n",
    "\n",
    "We will now use InitialGuessList to have a InitialGuess for each phase."
   ]
  },
  {
   "cell_type": "code",
   "execution_count": null,
   "id": "c3d4dd17-836a-4758-bbad-2db120d5782d",
   "metadata": {},
   "outputs": [],
   "source": [
    "x_init = InitialGuessList()\n",
    "u_init = InitialGuessList()"
   ]
  },
  {
   "cell_type": "markdown",
   "id": "1b670c76-5de5-4b80-acf2-6eae140c2802",
   "metadata": {},
   "source": [
    "Then we define the values for each phase."
   ]
  },
  {
   "cell_type": "code",
   "execution_count": null,
   "id": "850c61f3-cbb8-41b0-92fd-3da2f7353b3f",
   "metadata": {},
   "outputs": [],
   "source": [
    "dof0_phase1 = 1 \n",
    "dof1_phase1 = 0.005\n",
    "dof25_phase1 = 2\n",
    "\n",
    "dof0_phase2 = 0.4 \n",
    "dof1_phase2 = 2\n",
    "dof25_phase2 = 0.008\n",
    "\n",
    "control0_phase1 = 100 \n",
    "control1_phase1 = 200\n",
    "control11_phase1 = -300\n",
    "\n",
    "control0_phase2 = 200\n",
    "control1_phase2 = -300\n",
    "control11_phase2 = 100"
   ]
  },
  {
   "cell_type": "markdown",
   "id": "b64a0a19-c3b2-4ac2-bc7a-8e474fbdc10f",
   "metadata": {},
   "source": [
    "When we have more than one phase, we have to create a list for each phase and add these lists to the InitialGuessList, through .add method."
   ]
  },
  {
   "cell_type": "code",
   "execution_count": null,
   "id": "19ef1193-6590-46f5-9861-d027d2fceabf",
   "metadata": {},
   "outputs": [],
   "source": [
    "x_init_list_phase1 = [0] * (biorbd_model.nbQ() + biorbd_model.nbQdot())\n",
    "x_init_list_phase2 = [0] * (biorbd_model.nbQ() + biorbd_model.nbQdot())\n",
    "\n",
    "x_init_list_phase1[0:2] = [dof0_phase1, dof1_phase1]\n",
    "x_init_list_phase1[25] = dof25_phase1\n",
    "x_init_list_phase2[0:2] = [dof0_phase2, dof1_phase2]\n",
    "x_init_list_phase2[25] = dof25_phase2\n",
    "\n",
    "x_init.add(x_init_list_phase1)\n",
    "x_init.add(x_init_list_phase2)"
   ]
  },
  {
   "cell_type": "markdown",
   "id": "6181f099-b49b-488d-acdf-fb1ad85cab4d",
   "metadata": {},
   "source": [
    "Now, InitialGuessList for states contains two list. So let's check !"
   ]
  },
  {
   "cell_type": "code",
   "execution_count": null,
   "id": "d3692d76-fc7f-4f55-a636-dffb7ec1868e",
   "metadata": {},
   "outputs": [],
   "source": [
    "x_init[0].init"
   ]
  },
  {
   "cell_type": "code",
   "execution_count": null,
   "id": "f6bf2fd1-ed55-4c8a-8833-fceeea8e4770",
   "metadata": {},
   "outputs": [],
   "source": [
    "x_init[1].init"
   ]
  },
  {
   "cell_type": "markdown",
   "id": "c0c2bfca-a7c6-4287-bdf1-1e516ab30ba0",
   "metadata": {
    "tags": []
   },
   "source": [
    "In our case, our problem has multiple phases, so x_init[i].type describes the fact that InitialGuess is set as constant over the phase i."
   ]
  },
  {
   "cell_type": "code",
   "execution_count": null,
   "id": "f91bfdfe-476f-426a-9b96-d9e11189ccc0",
   "metadata": {},
   "outputs": [],
   "source": [
    "x_init[0].type"
   ]
  },
  {
   "cell_type": "code",
   "execution_count": null,
   "id": "49e044f5-a69b-4a20-91e4-b703fc6cfb51",
   "metadata": {},
   "outputs": [],
   "source": [
    "x_init[1].type"
   ]
  },
  {
   "cell_type": "markdown",
   "id": "881cb7e4-59d7-4b1f-82c5-f39bea90ea94",
   "metadata": {},
   "source": [
    "## Do It Yourself \n",
    "\n",
    "Now that you saw an example, let's apply what you learned on an other example. You have to change the following InitialGuess."
   ]
  },
  {
   "cell_type": "code",
   "execution_count": null,
   "id": "100e22c8-e994-45d4-9ce0-9d5323e23f78",
   "metadata": {},
   "outputs": [],
   "source": [
    "# Complete the following line\n",
    "# We want to change states 5, 8 and 9\n",
    "\n",
    "# Initial guess\n",
    "n_q = biorbd_model.nbQ()\n",
    "n_qdot = biorbd_model.nbQdot()\n",
    "\n",
    "x_init = ... () # we created x_init as a list of InitialGuess that is initially empty\n",
    "x_init = InitialGuessList()\n",
    "\n",
    "dof5_phase1 = 1 \n",
    "dof8_phase1 = 0.005\n",
    "dof9_phase1 = 2\n",
    "\n",
    "dof5_phase2 = 0.005 \n",
    "dof8_phase2 = 1\n",
    "dof9_phase2 = 3\n",
    "\n",
    "x_init.add(...) # Finally we add each list to the InitialGuessList\n",
    "x_init.add(...)"
   ]
  },
  {
   "cell_type": "markdown",
   "id": "808af0ab-d0ff-4ba0-b0e5-904cae2f31d4",
   "metadata": {},
   "source": [
    "Let's check what you've done !"
   ]
  },
  {
   "cell_type": "code",
   "execution_count": null,
   "id": "23a4aafe-17f4-413e-8ae7-3fd997c63b42",
   "metadata": {},
   "outputs": [],
   "source": [
    "x_init[0].init"
   ]
  },
  {
   "cell_type": "code",
   "execution_count": null,
   "id": "4d5ac64b-ce48-413f-a45a-c344bc2eb525",
   "metadata": {},
   "outputs": [],
   "source": [
    "x_init[1].init"
   ]
  },
  {
   "cell_type": "markdown",
   "id": "b13c6dde-85e4-492a-8cee-ea80eac80a1c",
   "metadata": {},
   "source": [
    "# Congratulation! You went from zero to hero in the understanding of InitialGuess !"
   ]
  }
 ],
 "metadata": {
  "kernelspec": {
   "display_name": "Python 3 (ipykernel)",
   "language": "python",
   "name": "python3"
  },
  "language_info": {
   "codemirror_mode": {
    "name": "ipython",
    "version": 3
   },
   "file_extension": ".py",
   "mimetype": "text/x-python",
   "name": "python",
   "nbconvert_exporter": "python",
   "pygments_lexer": "ipython3",
   "version": "3.10.2"
  }
 },
 "nbformat": 4,
 "nbformat_minor": 5
}
